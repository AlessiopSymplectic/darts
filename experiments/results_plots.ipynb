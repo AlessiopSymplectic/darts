{
 "cells": [
  {
   "cell_type": "markdown",
   "id": "19083e6b",
   "metadata": {},
   "source": [
    "## Import log file"
   ]
  },
  {
   "cell_type": "code",
   "execution_count": null,
   "id": "b7417bd3",
   "metadata": {},
   "outputs": [],
   "source": [
    "%matplotlib inline \n",
    "\n",
    "import matplotlib.pyplot as plt\n",
    "import os\n",
    "import pandas as pd \n",
    "import numpy as np"
   ]
  },
  {
   "cell_type": "code",
   "execution_count": null,
   "id": "b49c02e8",
   "metadata": {},
   "outputs": [],
   "source": [
    "dataset_name = \"ETTh1Dataset\"\n",
    "metric = 'smape'\n",
    "\n",
    "experiment_dir = os.path.join(os.getcwd(), f\"benchmark_experiments/{dataset_name}\")\n",
    "logging_file = os.path.join(experiment_dir, f\"logs.csv\")\n",
    "logging_file"
   ]
  },
  {
   "cell_type": "code",
   "execution_count": null,
   "id": "c606b9f6",
   "metadata": {},
   "outputs": [],
   "source": [
    "logs_df_all = pd.read_csv(logging_file, delimiter=\",\")\n",
    "logs_df_all = logs_df.round({'metric on test-std':3,'model training time-std':3,'model inference time-std':3})\n",
    "logs_df = logs_df_all[logs_df_all['metric']==metric]\n",
    "logs_df"
   ]
  },
  {
   "cell_type": "markdown",
   "id": "98319a56",
   "metadata": {},
   "source": [
    "## Accuracy"
   ]
  },
  {
   "cell_type": "code",
   "execution_count": null,
   "id": "a4ebdb41",
   "metadata": {},
   "outputs": [],
   "source": [
    "models = logs_df['model']\n",
    "x_pos = np.arange(len(models))\n",
    "\n",
    "\n",
    "fig, ax = plt.subplots()\n",
    "ax.bar(x_pos,logs_df['metric on test-mean'] , yerr=logs_df['metric on test-std'],\n",
    "       align='center', alpha=0.5, ecolor='black', capsize=5, width = 0.2)\n",
    "ax.set_ylabel(f'{metric} on test set')\n",
    "ax.set_xticks(x_pos)\n",
    "ax.set_xticklabels(models)\n",
    "ax.set_title(f'{metric} - {dataset_name}')\n",
    "ax.yaxis.grid(False)\n",
    "\n",
    "# Save the figure and show\n",
    "plt.tight_layout()\n",
    "plt.savefig(os.path.join(experiment_dir, 'accuracy_bar_plot.png'))\n",
    "plt.show()"
   ]
  },
  {
   "cell_type": "markdown",
   "id": "361bd5fe",
   "metadata": {},
   "source": [
    "## Training time"
   ]
  },
  {
   "cell_type": "code",
   "execution_count": null,
   "id": "27443904",
   "metadata": {},
   "outputs": [],
   "source": [
    "models = logs_df['model']\n",
    "x_pos = np.arange(len(models))\n",
    "\n",
    "fig, ax = plt.subplots()\n",
    "ax.bar(x_pos,logs_df['model training time-mean'] , yerr=logs_df['model training time-std'],\n",
    "       align='center', alpha=0.5, ecolor='black', capsize=5, width = 0.2)\n",
    "ax.set_ylabel(f'training time (in seconds)')\n",
    "ax.set_xticks(x_pos)\n",
    "ax.set_xticklabels(models)\n",
    "ax.set_title(f'Models training time - {dataset_name}')\n",
    "ax.yaxis.grid(False)\n",
    "\n",
    "# Save the figure and show\n",
    "plt.tight_layout()\n",
    "plt.savefig(os.path.join(experiment_dir, 'trainingTime_bar_plot.png'))\n",
    "plt.show()"
   ]
  },
  {
   "cell_type": "markdown",
   "id": "58de1f0a",
   "metadata": {},
   "source": [
    "## Inference time"
   ]
  },
  {
   "cell_type": "code",
   "execution_count": null,
   "id": "a841852a",
   "metadata": {},
   "outputs": [],
   "source": [
    "models = logs_df['model']\n",
    "x_pos = np.arange(len(models))\n",
    "\n",
    "fig, ax = plt.subplots()\n",
    "ax.bar(x_pos,logs_df['model inference time-mean'] , yerr=logs_df['model inference time-std'],\n",
    "       align='center', alpha=0.5, ecolor='black', capsize=5, width = 0.2)\n",
    "ax.set_ylabel(f'inference time (in seconds)')\n",
    "ax.set_xticks(x_pos)\n",
    "ax.set_xticklabels(models)\n",
    "ax.set_title(f'Models inference time - {dataset_name}')\n",
    "ax.yaxis.grid(False)\n",
    "\n",
    "# Save the figure and show\n",
    "plt.tight_layout()\n",
    "plt.savefig(os.path.join(experiment_dir, 'inferenceTime_bar_plot.png'))\n",
    "plt.show()"
   ]
  },
  {
   "cell_type": "code",
   "execution_count": null,
   "id": "85b0ad22",
   "metadata": {},
   "outputs": [],
   "source": []
  }
 ],
 "metadata": {
  "kernelspec": {
   "display_name": "Python 3 (ipykernel)",
   "language": "python",
   "name": "python3"
  },
  "language_info": {
   "codemirror_mode": {
    "name": "ipython",
    "version": 3
   },
   "file_extension": ".py",
   "mimetype": "text/x-python",
   "name": "python",
   "nbconvert_exporter": "python",
   "pygments_lexer": "ipython3",
   "version": "3.9.15"
  }
 },
 "nbformat": 4,
 "nbformat_minor": 5
}
